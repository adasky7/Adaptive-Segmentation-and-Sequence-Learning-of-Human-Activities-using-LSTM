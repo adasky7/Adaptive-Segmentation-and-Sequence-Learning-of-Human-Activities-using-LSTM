{
 "cells": [
  {
   "cell_type": "code",
   "execution_count": 1,
   "metadata": {},
   "outputs": [],
   "source": [
    "import numpy as np\n",
    "import pandas as pd\n",
    "import matplotlib.pyplot as plt\n",
    "import sys"
   ]
  },
  {
   "cell_type": "code",
   "execution_count": 2,
   "metadata": {},
   "outputs": [],
   "source": [
    "def keypose(filename):\n",
    "    activity_df = pd.read_csv(filename)\n",
    "    # number of classes = number of activities within each file\n",
    "    num_of_classes = activity_df.label.max()\n",
    "    \n",
    "    # for each class, extract joint coordinates for processing\n",
    "    # to calculate K.E 1/2(v^2)\n",
    "    for x in range(1, (num_of_classes + 1)):\n",
    "        class_df_active = activity_df[activity_df.label == x]\n",
    "        \"\"\"\n",
    "        calculating velocity of each joint dimension dist/time\n",
    "        using a sampling time interval of 0.033 secs\n",
    "        \"\"\"\n",
    "        class_label = class_df_active.label\n",
    "        class_df = class_df_active.drop('label', axis=1)   # drop column with class label\n",
    "\n",
    "        #class_df = class_df.rolling(window=30).mean()         # simple moving average to smoothing data\n",
    "        coord_dist = class_df.diff().fillna(0)                # diff between each frame and its preceding frame and fill NaNs with 0\n",
    "        coord_dist = coord_dist.rolling(window=30).mean()\n",
    "        # compute joint distances over time\n",
    "        coord_dist = coord_dist ** 2                          # square each value used to compute euclidean distance of a joint movement over time\n",
    "        # print(\"coordinate distance %s\" % coord_dist)\n",
    "        for i in range(0, len(coord_dist.columns), 3):\n",
    "            euclid_dist = np.sqrt(coord_dist.iloc[:, i] + coord_dist.iloc[:, (i+1)] + coord_dist.iloc[:, (i+2)])    # from second frame calculate each joint distance across each frame\n",
    "            if i == 0:\n",
    "                joint_dist = euclid_dist\n",
    "            else:\n",
    "                joint_dist = pd.concat([joint_dist, euclid_dist], axis=1)\n",
    "        velocity2 = ((joint_dist / 100)) #/ 0.033)      # convert to meter / second\n",
    "        K_E = (((velocity2.sum(axis=1) ** 2) / 2).reset_index(drop=True))\n",
    "        K_E_sma = K_E.rolling(window=15).mean()\n",
    "        K_E_ema = K_E.rolling(window=30).mean()\n",
    "\n",
    "        # plot kinetic energy vs frame number\n",
    "        cumu_diff_KE = K_E - K_E.loc[30]\n",
    "        diff_sum = cumu_diff_KE.loc[30:len(cumu_diff_KE)].sum()\n",
    "\n",
    "        if x == 5:\n",
    "            plt.figure(x)\n",
    "            idx = np.argwhere(np.diff(np.sign(K_E_sma - K_E_ema)) != 0).reshape(-1) + 0 #find the crossover points of the moving averages\n",
    "            idx = idx[29:len(idx)]\n",
    "            print('Index positions of key poses in an activity: %s' % idx)\n",
    "            #raw_plt = plt.plot(K_E.index, K_E, color='black')\n",
    "            sh_sma = plt.plot(K_E.index[30:len(K_E.index)], K_E_sma[30:len(K_E.index)], color='red')\n",
    "            long_sma = plt.plot(K_E.index[30:len(K_E.index)], K_E_ema[30:len(K_E.index)], color='green')\n",
    "            plt.plot(K_E.index[idx], K_E_ema[idx], 'bo')\n",
    "            plt.legend([sh_sma[0], long_sma[0]], ['Short Moving Av. = 15', 'Long Moving Av. = 30'])\n",
    "            plt.xlabel('frame number')\n",
    "            plt.ylabel('Kinetic energy')\n",
    "            plt.show()\n",
    "\n",
    "            #get data of the selected key poses\n",
    "            key_pose = class_df_active.iloc[idx]\n",
    "            #print(key_pose)\n",
    "            \n",
    "    return key_pose"
   ]
  }
 ],
 "metadata": {
  "kernelspec": {
   "display_name": "Python 3",
   "language": "python",
   "name": "python3"
  },
  "language_info": {
   "codemirror_mode": {
    "name": "ipython",
    "version": 3
   },
   "file_extension": ".py",
   "mimetype": "text/x-python",
   "name": "python",
   "nbconvert_exporter": "python",
   "pygments_lexer": "ipython3",
   "version": "3.6.4"
  }
 },
 "nbformat": 4,
 "nbformat_minor": 2
}
